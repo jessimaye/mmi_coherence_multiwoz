{
 "cells": [
  {
   "cell_type": "code",
   "execution_count": null,
   "metadata": {},
   "outputs": [],
   "source": [
    "pip install pandas"
   ]
  },
  {
   "cell_type": "code",
   "execution_count": null,
   "metadata": {},
   "outputs": [],
   "source": [
    "import re\n",
    "import pandas as pd\n",
    "import json"
   ]
  },
  {
   "cell_type": "markdown",
   "metadata": {},
   "source": [
    "Extracting \"id\", \"text\", \"score\", \"explanation\" and \"assistance functions\" from the LLM-annotation of the MultiWOZ dialogues with regular expressions"
   ]
  },
  {
   "cell_type": "code",
   "execution_count": null,
   "metadata": {},
   "outputs": [],
   "source": [
    "with open(\".txt\", \"r\", encoding=\"utf-8\") as file:\n",
    "    text = file.read()"
   ]
  },
  {
   "cell_type": "code",
   "execution_count": null,
   "metadata": {},
   "outputs": [],
   "source": [
    "json_pattern = r'\\{(?:[^{}]|\"(?:\\\\.|[^\"])*\")*\\}'"
   ]
  },
  {
   "cell_type": "code",
   "execution_count": null,
   "metadata": {},
   "outputs": [],
   "source": [
    "matches = re.findall(json_pattern, text)"
   ]
  },
  {
   "cell_type": "code",
   "execution_count": null,
   "metadata": {},
   "outputs": [],
   "source": [
    "print(f\"Dialogues recognised: {len(matches)}\")"
   ]
  },
  {
   "cell_type": "code",
   "execution_count": null,
   "metadata": {},
   "outputs": [],
   "source": [
    "data = []"
   ]
  },
  {
   "cell_type": "code",
   "execution_count": null,
   "metadata": {},
   "outputs": [],
   "source": [
    "for match in matches:\n",
    "    \n",
    "    id_match = re.search(r'\"id\"\\s*:\\s*\"([^\"]+)\"', match)\n",
    "    dialog_id = id_match.group(1) if id_match else None\n",
    "\n",
    "    \n",
    "    text_match = re.search(r'\"text\"\\s*:\\s*\\[(.*?)\\]', match, re.DOTALL)\n",
    "    text_list = re.findall(r'\"(.*?)\"', text_match.group(1)) if text_match else []\n",
    "\n",
    "    \n",
    "    score_match = re.search(r'\"score\"\\s*:\\s*(\\d+)', match)\n",
    "    score = int(score_match.group(1)) if score_match else None\n",
    "\n",
    "    \n",
    "    explanation_match = re.search(r'\"explanation of score\"\\s*:\\s*\"([^\"]+)\"', match)\n",
    "    explanation = explanation_match.group(1) if explanation_match else None\n",
    "\n",
    "    \n",
    "    assistance_match = re.search(r'\"assistance functions\"\\s*:\\s*\\[(.*?)\\]', match, re.DOTALL)\n",
    "    assistance_list = re.findall(r'\"(.*?)\"', assistance_match.group(1)) if assistance_match else []\n",
    "\n",
    "    \n",
    "    data.append({\n",
    "        \"id\": dialog_id,\n",
    "        \"text\": text_list,\n",
    "        \"score\": score,\n",
    "        \"explanation\": explanation,\n",
    "        \"assistance_functions\": assistance_list\n",
    "    })"
   ]
  },
  {
   "cell_type": "code",
   "execution_count": null,
   "metadata": {},
   "outputs": [],
   "source": [
    "df = pd.DataFrame(data)"
   ]
  },
  {
   "cell_type": "code",
   "execution_count": null,
   "metadata": {},
   "outputs": [],
   "source": [
    "df.to_csv(\"multiwoz_coherence_annotation_llama3-8b.csv\", index=False)"
   ]
  },
  {
   "cell_type": "markdown",
   "metadata": {},
   "source": [
    "Extracting \"id\", \"text\" and \"coherence\" from the LLM-annotation of the annotated acts of speeches based on the MultiWOZ dialogues"
   ]
  },
  {
   "cell_type": "code",
   "execution_count": null,
   "metadata": {},
   "outputs": [],
   "source": [
    "with open(\".txt\", \"r\", encoding=\"utf-8\") as file:\n",
    "    data = file.read()"
   ]
  },
  {
   "cell_type": "code",
   "execution_count": null,
   "metadata": {},
   "outputs": [],
   "source": [
    "matches = re.findall(r'\\{.*?\\}', data, re.DOTALL)"
   ]
  },
  {
   "cell_type": "code",
   "execution_count": null,
   "metadata": {},
   "outputs": [],
   "source": [
    "print(len(matches))"
   ]
  },
  {
   "cell_type": "code",
   "execution_count": null,
   "metadata": {},
   "outputs": [],
   "source": [
    "results = []"
   ]
  },
  {
   "cell_type": "code",
   "execution_count": null,
   "metadata": {},
   "outputs": [],
   "source": [
    "for match in matches:\n",
    "    \n",
    "    id_match = re.search(r'\"([\\w\\d]+\\.json)\"', match)\n",
    "    dialog_id = id_match.group(1) if id_match else None\n",
    "\n",
    "    \n",
    "    text_match = re.search(r'\"text\"\\s*:\\s*\\[(.*?)\\]', match, re.DOTALL)\n",
    "    text_list = re.findall(r'\"(.*?)\"', text_match.group(1)) if text_match else []\n",
    "\n",
    "    \n",
    "    coherence_match = re.search(r'\"coherence\"\\s*:\\s*(\\d+)', match)\n",
    "    coherence = int(coherence_match.group(1)) if coherence_match else None\n",
    "\n",
    "    \n",
    "    results.append({\n",
    "        \"id\": dialog_id,\n",
    "        \"text\": text_list,\n",
    "        \"coherence\": coherence\n",
    "    })"
   ]
  },
  {
   "cell_type": "code",
   "execution_count": null,
   "metadata": {},
   "outputs": [],
   "source": [
    "df_acts = pd.DataFrame(results)"
   ]
  },
  {
   "cell_type": "code",
   "execution_count": null,
   "metadata": {},
   "outputs": [],
   "source": [
    "df_acs = df_acts.dropna(subset=[\"id\", \"text\", \"coherence\"])"
   ]
  },
  {
   "cell_type": "code",
   "execution_count": null,
   "metadata": {},
   "outputs": [],
   "source": [
    "df_acs = df_acts.reset_index(drop=True)"
   ]
  },
  {
   "cell_type": "code",
   "execution_count": null,
   "metadata": {},
   "outputs": [],
   "source": [
    "df_acts.to_csv(\"acts_of_speeches_annotation_llama3-8b.csv\", index=False)"
   ]
  }
 ],
 "metadata": {
  "language_info": {
   "name": "python"
  }
 },
 "nbformat": 4,
 "nbformat_minor": 2
}
