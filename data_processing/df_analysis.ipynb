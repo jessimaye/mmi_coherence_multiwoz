{
 "cells": [
  {
   "cell_type": "code",
   "execution_count": null,
   "metadata": {},
   "outputs": [],
   "source": [
    "pip install -U matplotlib"
   ]
  },
  {
   "cell_type": "code",
   "execution_count": null,
   "metadata": {},
   "outputs": [],
   "source": [
    "pip install pandas"
   ]
  },
  {
   "cell_type": "code",
   "execution_count": 6,
   "metadata": {},
   "outputs": [],
   "source": [
    "import pandas as pd"
   ]
  },
  {
   "cell_type": "code",
   "execution_count": 7,
   "metadata": {},
   "outputs": [],
   "source": [
    "import matplotlib.pyplot as plt"
   ]
  },
  {
   "cell_type": "markdown",
   "metadata": {},
   "source": [
    "Analysis of the Coherence Score Annotation based on the MultiWOZ dialogues"
   ]
  },
  {
   "cell_type": "code",
   "execution_count": 8,
   "metadata": {},
   "outputs": [],
   "source": [
    "df = pd.read_csv(\"annotation_coherence_llama3-8b_final.csv\")"
   ]
  },
  {
   "cell_type": "code",
   "execution_count": 9,
   "metadata": {},
   "outputs": [
    {
     "name": "stdout",
     "output_type": "stream",
     "text": [
      "                  id                                               text  \\\n",
      "0      SNG01856.json  ['am looking for a place to to stay that has c...   \n",
      "1       SNG0129.json  ['Hello , I have been robbed . Can you please ...   \n",
      "2       MUL2168.json  [\"Hi , I 'm looking for a train that is going ...   \n",
      "3      SNG01445.json  ['I was robbed a few minutes ago and need assi...   \n",
      "4       MUL2105.json  [\"Hi . I 'm looking for a hotel in the east . ...   \n",
      "...              ...                                                ...   \n",
      "10439   SNG0805.json  [\"I need one in the moderate price range . I w...   \n",
      "10440  SNG02198.json  ['I need a taxi to go to meghna .', 'And when ...   \n",
      "10441   SNG0253.json  ['I am looking for a train to Cambridge on Sat...   \n",
      "10442   MUL1076.json  ['Yes I am looking for some hotels that includ...   \n",
      "10443  PMUL1046.json  ['Where is the train that arrives at 11:00 and...   \n",
      "\n",
      "       score                                        explanation  \\\n",
      "0        5.0  The dialogue is coherent and natural. The bot ...   \n",
      "1        5.0  The dialogue is coherent and natural. The bot ...   \n",
      "2        5.0  The dialogue is coherent and natural. The bot ...   \n",
      "3        5.0  The dialogue is coherent and natural. The bot ...   \n",
      "4        5.0  The dialogue is coherent and natural. The bot ...   \n",
      "...      ...                                                ...   \n",
      "10439    5.0  The dialogue is coherent and natural. The bot ...   \n",
      "10440    5.0  The dialogue is coherent and natural. The bot ...   \n",
      "10441    5.0  The dialogue is coherent and natural. The bot ...   \n",
      "10442    5.0  The dialogue is coherent and natural. The bot ...   \n",
      "10443    2.0  The conversation starts well, with the bot pro...   \n",
      "\n",
      "                                    assistance_functions  \n",
      "0      ['Orientation assistance', 'Explanation assist...  \n",
      "1      ['Orientation assistance', 'Explanation assist...  \n",
      "2      ['Offer assistance', 'Consultant assistance', ...  \n",
      "3      ['Orientation assistance', 'Explanation assist...  \n",
      "4      ['Orientation assistance', 'Offer assistance',...  \n",
      "...                                                  ...  \n",
      "10439  ['Orientation assistance', 'Explanation assist...  \n",
      "10440  ['Orientation assistance', 'Offer assistance',...  \n",
      "10441  ['Orientation assistance', 'Explanation assist...  \n",
      "10442  ['Orientation assistance', 'Explanation assist...  \n",
      "10443  ['Orientation assistance', 'Explanation assist...  \n",
      "\n",
      "[10444 rows x 5 columns]\n"
     ]
    }
   ],
   "source": [
    "print(df)"
   ]
  },
  {
   "cell_type": "code",
   "execution_count": 10,
   "metadata": {},
   "outputs": [
    {
     "data": {
      "text/plain": [
       "score\n",
       "5.0    9578\n",
       "4.0     704\n",
       "3.0      63\n",
       "2.0      48\n",
       "1.0      47\n",
       "Name: count, dtype: int64"
      ]
     },
     "execution_count": 10,
     "metadata": {},
     "output_type": "execute_result"
    }
   ],
   "source": [
    "df[\"score\"].value_counts()"
   ]
  },
  {
   "cell_type": "code",
   "execution_count": 11,
   "metadata": {},
   "outputs": [
    {
     "name": "stdout",
     "output_type": "stream",
     "text": [
      "                  id                                               text  \\\n",
      "174     SNG1155.json  ['Can you tell me about the Cambridge universi...   \n",
      "251    WOZ20583.json  [\"Hi , I 'm looking for good Chinese food on t...   \n",
      "343    SNG01521.json  ['I need to book a taxi to arrive by 06:45 to ...   \n",
      "747    SNG01964.json  ['I would like to book a popular , cheap resta...   \n",
      "1070    SNG0938.json  ['Hello , I am looking for the address and pho...   \n",
      "1121   SNG02171.json  ['i need a taxi pick up at london kings cross ...   \n",
      "1155   SNG01773.json  ['I want to book a taxi to arrive by 02:15 to ...   \n",
      "1466   WOC20171.json  ['I want to find a cheap restaurant in the eas...   \n",
      "1784   SNG01882.json  ['I need a taxi to take me to the cambridge pu...   \n",
      "1916   SNG02239.json  ['I am looking for a place to dine . The resta...   \n",
      "2117    SNG1299.json  [\"I 'm looking for a particular restaurant . I...   \n",
      "2313   SSNG0227.json  ['Hi I need a cheap hotel in the three star ra...   \n",
      "2482   SNG01653.json  [\"I 've been hurt and need the nearest hospita...   \n",
      "2571   SNG01238.json  ['Send a taxi to the Parkside Police Station t...   \n",
      "2788   SNG01439.json  ['Hi , I want to catch a train from Peterborou...   \n",
      "3015   SNG01392.json  ['I need a taxi from The Man on the Moon to Ba...   \n",
      "3073   SNG01696.json  [\"Please help , I 've been in a car accident a...   \n",
      "3418   WOZ20610.json  ['I would like a restaurant in the west part o...   \n",
      "3539   SNG01578.json  [\"I 'd like to book a taxi , please . I need t...   \n",
      "3740    SNG1394.json  ['Can you help get tickets for a train on Tues...   \n",
      "4099   WOZ20547.json  ['I want to find a cheap restaurant and serves...   \n",
      "4122   WOZ20461.json  ['Could I get the name of a moderately priced ...   \n",
      "4149   SNG01929.json  ['Can you book me a taxi to da vinci pizzeria ...   \n",
      "5031   SNG02336.json  [\"I 'd like a taxi to take me to the missing s...   \n",
      "5266    SNG0042.json  ['I need a taxi at cherry hinton hall and grou...   \n",
      "5427    SNG0075.json  ['I need a taxi that departs from hobsons hous...   \n",
      "5565   SNG01343.json  ['I need to book a taxi to leave after 07:45 t...   \n",
      "5571    SNG0047.json  ['I need a Taxi , I want it to go to carolina ...   \n",
      "5754   SNG01152.json  [\"I 'm looking for a train going to broxbourne...   \n",
      "5832   SNG01334.json  ['I need a hospital with an antenatal departme...   \n",
      "6171   PMUL1197.json  ['I would like to take a train from leicester ...   \n",
      "6282   WOZ20569.json  ['I want a cheap restaurant in the east part o...   \n",
      "6317   SNG01440.json  ['I need to get to bangkok city by 12:00 today...   \n",
      "6451   SNG01648.json  ['I need a taxi at 24:00 to take me to Milton ...   \n",
      "6624   WOZ20390.json  ['Can you please recommend an inexpensive rest...   \n",
      "7360   SNG02022.json  ['I am   looking for the Addenbrookes Hospital...   \n",
      "7672    SNG0096.json  ['I would like to book a taxi departing from L...   \n",
      "7709   SNG01665.json  [\"Hi , I need a tax to queens ' college please...   \n",
      "7741   SNG01431.json  ['Can you help me book a taxi please ?', 'Yes ...   \n",
      "7778   SNG01182.json  ['I am looking for a place to stay . The hotel...   \n",
      "7922   SNG01862.json  ['I want to take a taxi from arbury lodge gues...   \n",
      "8183    SNG1018.json  [\"I 'm looking for a hotel called the Arbury L...   \n",
      "8711    MUL0759.json  ['Hi ! Can you help me find a mid - range pric...   \n",
      "8744   PMUL2492.json  [\"I 'm taking my ferret to see places in town ...   \n",
      "9068   SNG01366.json  ['I need a taxi to go to saigon city and arriv...   \n",
      "9830   PMUL2612.json  ['I am looking for information on a nightclub ...   \n",
      "10210  WOZ20101.json  ['I am looking for a cheap restaurant in the e...   \n",
      "\n",
      "       score                                        explanation  \\\n",
      "174      1.0  The dialogue is incoherent because the user as...   \n",
      "251      1.0  The dialogue is incoherent because the bot doe...   \n",
      "343      1.0  The dialogue is incoherent as the conversation...   \n",
      "747      1.0  The dialogue is incoherent because the user's ...   \n",
      "1070     1.0  The dialogue is incoherent and unnatural. The ...   \n",
      "1121     1.0  The dialogue is incoherent. The user's request...   \n",
      "1155     1.0  The dialogue is incoherent because the user's ...   \n",
      "1466     1.0  The dialogue is incoherent as the user's reque...   \n",
      "1784     1.0  The dialogue is incoherent. The user requests ...   \n",
      "1916     1.0  The dialogue is absolutely incoherent. The con...   \n",
      "2117     1.0  The dialogue is incoherent because the user is...   \n",
      "2313     1.0  The dialogue is incoherent and unnatural. The ...   \n",
      "2482     1.0  The dialogue is incoherent due to the user's r...   \n",
      "2571     1.0  The dialogue is incoherent and lacks logical c...   \n",
      "2788     1.0  The dialogue is incoherent as the user's reque...   \n",
      "3015     1.0  The dialogue is incoherent. The user requests ...   \n",
      "3073     1.0  This conversation is completely incoherent. Th...   \n",
      "3418     1.0  This dialogue is incoherent because the bot do...   \n",
      "3539     1.0  The dialogue is incoherent. The user requests ...   \n",
      "3740     1.0  The dialogue is incoherent. The user asks for ...   \n",
      "4099     1.0  The dialogue is incoherent because the user as...   \n",
      "4122     1.0  The dialogue is incoherent as the bot does not...   \n",
      "4149     1.0  The dialogue is incoherent. The user asks the ...   \n",
      "5031     1.0  The dialogue is absolutely incoherent. The use...   \n",
      "5266     1.0  The dialogue is incoherent and lacks logical f...   \n",
      "5427     1.0  The dialogue is incoherent and lacks logical c...   \n",
      "5565     1.0  The dialogue is incoherent. The conversation d...   \n",
      "5571     1.0  The dialogue is incoherent and unnatural. The ...   \n",
      "5754     1.0  The dialogue is not coherent. The user's reque...   \n",
      "5832     1.0  The dialogue is incoherent. The user asks for ...   \n",
      "6171     1.0  The dialogue is incoherent because the bot doe...   \n",
      "6282     1.0  The dialogue is incoherent as the user's reque...   \n",
      "6317     1.0  The dialogue is incoherent as it starts with a...   \n",
      "6451     1.0  The dialogue is incoherent. The bot does not p...   \n",
      "6624     1.0  The dialogue is incoherent. The bot does not p...   \n",
      "7360     1.0  The dialogue is incoherent. The user asks for ...   \n",
      "7672     1.0  The dialogue is incoherent. The user requests ...   \n",
      "7709     1.0  The dialogue is incoherent and lacks logical f...   \n",
      "7741     1.0  The dialogue is incoherent as the conversation...   \n",
      "7778     1.0  The dialogue is incoherent. The user's request...   \n",
      "7922     1.0  The dialogue is incoherent. The user's request...   \n",
      "8183     1.0  The dialogue is incoherent because the assista...   \n",
      "8711     1.0  The dialogue is incoherent. The conversation s...   \n",
      "8744     1.0  This dialogue is incoherent and unnatural. The...   \n",
      "9068     1.0  The dialogue is incoherent because the bot doe...   \n",
      "9830     1.0  The dialogue is incoherent. The user's request...   \n",
      "10210    1.0  The dialogue is incoherent. The user is lookin...   \n",
      "\n",
      "                                    assistance_functions  \n",
      "174                                                   []  \n",
      "251                                                   []  \n",
      "343                                                   []  \n",
      "747                                             ['None']  \n",
      "1070                                                  []  \n",
      "1121                                                  []  \n",
      "1155                                                  []  \n",
      "1466                                                  []  \n",
      "1784                                                  []  \n",
      "1916                                                  []  \n",
      "2117                                                  []  \n",
      "2313                                                  []  \n",
      "2482                                                  []  \n",
      "2571                                                  []  \n",
      "2788                                                  []  \n",
      "3015                                                  []  \n",
      "3073                                                  []  \n",
      "3418                                                  []  \n",
      "3539                                                  []  \n",
      "3740                                                  []  \n",
      "4099                                                  []  \n",
      "4122                                                  []  \n",
      "4149                                                  []  \n",
      "5031                                                  []  \n",
      "5266                                                  []  \n",
      "5427                                                  []  \n",
      "5565                                                ['']  \n",
      "5571                                                  []  \n",
      "5754                                                  []  \n",
      "5832                                                  []  \n",
      "6171                                                  []  \n",
      "6282                                                  []  \n",
      "6317                                                  []  \n",
      "6451                                                  []  \n",
      "6624                                                  []  \n",
      "7360                                                  []  \n",
      "7672                                                  []  \n",
      "7709                                                  []  \n",
      "7741                                                  []  \n",
      "7778                                                  []  \n",
      "7922                                                  []  \n",
      "8183                                                  []  \n",
      "8711   ['Activation assistance', 'Coach assistance', ...  \n",
      "8744                                                  []  \n",
      "9068                                                  []  \n",
      "9830                                                  []  \n",
      "10210                                                 []  \n"
     ]
    }
   ],
   "source": [
    "print(df.loc[df[\"score\"]==1.0])"
   ]
  },
  {
   "cell_type": "code",
   "execution_count": 12,
   "metadata": {},
   "outputs": [
    {
     "name": "stdout",
     "output_type": "stream",
     "text": [
      "                  id                                               text  \\\n",
      "74     SSNG0363.json  [\"I 'm looking for information on a hotel call...   \n",
      "124    PMUL0148.json  [\"Yes , I 'm looking for a restaurant that ser...   \n",
      "134    SNG01611.json  ['I am looking for a restaurant . The restaura...   \n",
      "269    WOZ20645.json  ['I want to find an expensive restaurant and s...   \n",
      "705    PMUL3863.json  ['i need a place to stay', 'OK , what area or ...   \n",
      "794    WOZ20648.json  [\"I would like a restaurant that serves world ...   \n",
      "950     SNG1222.json  ['I am looking for information on the Kings co...   \n",
      "1234   SSNG0328.json  [\"I 'm looking for a hotel with one star ratin...   \n",
      "1268    SNG1392.json  [\"Hello , I 'm looking for a 1 star hotel with...   \n",
      "1562   WOZ20328.json  ['Is there any restaurants on the south part o...   \n",
      "1677    SNG1259.json  [\"I need a taxi from great saint Mary's church...   \n",
      "1879   WOZ20563.json  ['I am looking for a restaurant in the west pa...   \n",
      "2069   PMUL1126.json  ['I am looking for a restaurant that serves in...   \n",
      "2189   SSNG0123.json  ['I am looking for a moderate priced restauran...   \n",
      "2639   SNG02199.json  [\"I 'll be needing a taxi from nandos city cen...   \n",
      "3133   WOZ20208.json  ['I want a cheap Italian restaurant in the sou...   \n",
      "3391   SNG01393.json  ['Please put me in touch with the local police...   \n",
      "3404   SSNG0089.json  [\"I 'm looking for a nice Italian restaurant ....   \n",
      "3518   PMUL3454.json  ['I wanted to find out about local restaurants...   \n",
      "3673   SNG01790.json  [\"I 'm looking to find a guesthouse with free ...   \n",
      "3734   WOZ20346.json  ['I want to find a restaurant in any area and ...   \n",
      "3746    SNG0057.json  ['Hello .   Can you book a taxi for me ?   I n...   \n",
      "4223   WOZ20570.json  ['Hello , I am looking for a restaurant that s...   \n",
      "4394   SSNG0245.json  ['I am looking for a cheap hotel that includes...   \n",
      "4864   PMUL3743.json  ['Can you help me look for train leaving from ...   \n",
      "4980   SNG01279.json  ['I need to book a taxi to come to Nandos City...   \n",
      "5060   PMUL1489.json  ['I would like to go to a theatre in town . Ho...   \n",
      "5074   PMUL0679.json  ['Hello !   Can you help me find a particular ...   \n",
      "5144    MUL0815.json  ['I am looking for a multiple sports attractio...   \n",
      "5472   PMUL3271.json  ['Hello ! Can you recommend a 4-star hotel in ...   \n",
      "5618   PMUL3905.json  ['Can you help me find a moderately priced Ind...   \n",
      "5771   SNG01475.json  ['I need to book a taxi to arrive by 13:45 to ...   \n",
      "5851   SNG01743.json  ['i need a taxi arrive 5:45 destination restau...   \n",
      "5998   WOZ20438.json  ['I want a danish restaurant in the south .', ...   \n",
      "6615   WOZ20292.json  ['Hello , I am looking for a restaurant that s...   \n",
      "6728   PMUL1286.json  ['Where can I find the best architecture ?', \"...   \n",
      "6733   PMUL3982.json  ['Can you give me the address to the hospital ...   \n",
      "7023   WOZ20024.json  [\"I 'm looking for something moderately priced...   \n",
      "7052    SNG1225.json  ['I aM looking for a train . The train should ...   \n",
      "7864   SNG02181.json  ['I need a tax arriving by 17:00 .', 'Sure ! w...   \n",
      "8757   PMUL4719.json  ['Hello , can you help me find an Internationa...   \n",
      "9387   SNG01155.json  ['I am looking to book a taxi that will leave ...   \n",
      "9747   WOZ20233.json  ['Hello , I am looking for a Hungarian restaur...   \n",
      "9749   PMUL3793.json  ['Where can I find malaysian food ? I prefer a...   \n",
      "9826   SNG01897.json  [\"Yes , can I get a taxi ?   I want to leave L...   \n",
      "10041  WOZ20106.json  ['I want to find a cheap restaurant in the eas...   \n",
      "10071  PMUL4375.json  [\"I am looking for great saint mary 's church ...   \n",
      "10443  PMUL1046.json  ['Where is the train that arrives at 11:00 and...   \n",
      "\n",
      "       score                                        explanation  \\\n",
      "74       2.0  The dialogue is coherent but natural conversat...   \n",
      "124      2.0  The dialogue is somewhat coherent, but it lack...   \n",
      "134      2.0  The dialogue is partially coherent. The bot pr...   \n",
      "269      2.0  The dialogue is partially coherent. The bot pr...   \n",
      "705      2.0  The dialogue is coherent but contains some inc...   \n",
      "794      2.0  The dialogue is partially coherent. The bot pa...   \n",
      "950      2.0  The dialogue is partially coherent, with the b...   \n",
      "1234     2.0  The dialogue is partially coherent and natural...   \n",
      "1268     2.0  The dialogue is partially coherent. The bot at...   \n",
      "1562     2.0  The dialogue is partially coherent. The bot pa...   \n",
      "1677     2.0  The dialogue is partially coherent, but the bo...   \n",
      "1879     2.0  The dialogue is partially coherent, but it lac...   \n",
      "2069     2.0  The dialogue is partially coherent, as it star...   \n",
      "2189     2.0  The dialogue is partially coherent. The bot re...   \n",
      "2639     2.0  The dialogue is partially coherent. The user r...   \n",
      "3133     2.0  The dialogue is partially coherent, but it has...   \n",
      "3391     2.0  The dialogue is partially coherent. The bot pr...   \n",
      "3404     2.0  The dialogue is coherent but somewhat robotic....   \n",
      "3518     2.0  The dialogue is somewhat coherent, but the con...   \n",
      "3673     2.0  The dialogue is partially coherent and natural...   \n",
      "3734     2.0  The dialogue is partially coherent. The bot in...   \n",
      "3746     2.0  The dialogue is partially coherent. The bot pr...   \n",
      "4223     2.0  The dialogue is partially coherent. The bot pr...   \n",
      "4394     2.0  The dialogue is partially coherent. The bot pr...   \n",
      "4864     2.0  The dialogue is partially coherent, but it lac...   \n",
      "4980     2.0  The dialogue is coherent but not entirely natu...   \n",
      "5060     2.0  The dialogue is partially coherent. The bot in...   \n",
      "5074     2.0  The dialogue is partially coherent, but it has...   \n",
      "5144     2.0  The dialogue is partially coherent. The bot in...   \n",
      "5472     2.0  The dialogue is somewhat incoherent. The bot d...   \n",
      "5618     2.0  The dialogue is partially coherent, but it lac...   \n",
      "5771     2.0  The dialogue is partially coherent. The bot at...   \n",
      "5851     2.0  The dialogue is somewhat coherent, but the con...   \n",
      "5998     2.0  The dialogue is partially coherent and natural...   \n",
      "6615     2.0  The dialogue is incoherent because the user's ...   \n",
      "6728     2.0  The dialogue is partially coherent and natural...   \n",
      "6733     2.0  The dialogue is partially coherent. The bot in...   \n",
      "7023     2.0  The dialogue is partially coherent. The bot pr...   \n",
      "7052     2.0  The dialogue is partially coherent, but the co...   \n",
      "7864     2.0  The dialogue is partially coherent, but the co...   \n",
      "8757     2.0  The dialogue is partially coherent and natural...   \n",
      "9387     2.0  The dialogue is partially coherent. The bot pr...   \n",
      "9747     2.0  The dialogue is partially coherent. The bot pr...   \n",
      "9749     2.0  The dialogue is partially coherent, but it dev...   \n",
      "9826     2.0  The dialogue is partially coherent. The bot pr...   \n",
      "10041    2.0  The dialogue is partially coherent, with some ...   \n",
      "10071    2.0  The dialogue is partially coherent. The user a...   \n",
      "10443    2.0  The conversation starts well, with the bot pro...   \n",
      "\n",
      "                                    assistance_functions  \n",
      "74     ['Orientation assistance', 'Explanation assist...  \n",
      "124       ['Offer assistance', 'Explanation assistance']  \n",
      "134    ['Coach assistance', 'Offer assistance', 'Cons...  \n",
      "269    ['Orientation assistance', 'Explanation assist...  \n",
      "705    ['Offer assistance', 'Filter assistance', 'Con...  \n",
      "794             ['Coach assistance', 'Offer assistance']  \n",
      "950    ['Orientation assistance', 'Explanation assist...  \n",
      "1234           ['Offer assistance', 'Filter assistance']  \n",
      "1268            ['Offer assistance', 'Coach assistance']  \n",
      "1562                                                  []  \n",
      "1677                                                  []  \n",
      "1879           ['Offer assistance', 'Filter assistance']  \n",
      "2069   ['Explanation assistance', 'Filter assistance'...  \n",
      "2189           ['Offer assistance', 'Filter assistance']  \n",
      "2639   ['Activation assistance', 'Coach assistance', ...  \n",
      "3133   ['Orientation assistance', 'Explanation assist...  \n",
      "3391   ['Orientation assistance', 'Explanation assist...  \n",
      "3404   ['Offer assistance', 'Coach assistance', 'Dele...  \n",
      "3518   ['Offer assistance', 'Filter assistance', 'Con...  \n",
      "3673   ['Offer assistance', 'Coach assistance', 'Filt...  \n",
      "3734   ['Offer assistance', 'Filter assistance', 'Coa...  \n",
      "3746            ['Offer assistance', 'Coach assistance']  \n",
      "4223   ['Orientation assistance', 'Explanation assist...  \n",
      "4394   ['Offer assistance', 'Filter assistance', 'Con...  \n",
      "4864       ['Consultant assistance', 'Offer assistance']  \n",
      "4980   ['Coach assistance', 'Offer assistance', 'Filt...  \n",
      "5060   ['Orientation assistance', 'Explanation assist...  \n",
      "5074   ['Orientation assistance', 'Offer assistance',...  \n",
      "5144   ['Orientation assistance', 'Explanation assist...  \n",
      "5472       ['Offer assistance', 'Consultant assistance']  \n",
      "5618   ['Orientation assistance', 'Explanation assist...  \n",
      "5771   ['Orientation assistance', 'Consultant assista...  \n",
      "5851       ['Activation assistance', 'Coach assistance']  \n",
      "5998   ['Explanation assistance', 'Filter assistance'...  \n",
      "6615   ['Offer assistance', 'Filter assistance', 'Exp...  \n",
      "6728   ['Orientation assistance', 'Explanation assist...  \n",
      "6733   ['Offer assistance', 'Filter assistance', 'Con...  \n",
      "7023                                                  []  \n",
      "7052   ['Orientation assistance', 'Explanation assist...  \n",
      "7864   ['Activation assistance', 'Coach assistance', ...  \n",
      "8757   ['Offer assistance', 'Explanation assistance',...  \n",
      "9387      ['Offer assistance', 'Explanation assistance']  \n",
      "9747   ['Explanation assistance', 'Offer assistance',...  \n",
      "9749                                                  []  \n",
      "9826   ['Offer assistance', 'Input assistance', 'Feed...  \n",
      "10041  ['Orientation assistance', 'Explanation assist...  \n",
      "10071  ['Orientation assistance', 'Explanation assist...  \n",
      "10443  ['Orientation assistance', 'Explanation assist...  \n"
     ]
    }
   ],
   "source": [
    "print(df.loc[df[\"score\"]==2.0])"
   ]
  },
  {
   "cell_type": "markdown",
   "metadata": {},
   "source": [
    "Visualizing the score values"
   ]
  },
  {
   "cell_type": "code",
   "execution_count": 13,
   "metadata": {},
   "outputs": [],
   "source": [
    "score_counts = df[\"score\"].value_counts().sort_index()"
   ]
  },
  {
   "cell_type": "code",
   "execution_count": 14,
   "metadata": {},
   "outputs": [
    {
     "data": {
      "image/png": "[encoded data removed]",
      "text/plain": [
       "<Figure size 640x480 with 1 Axes>"
      ]
     },
     "metadata": {},
     "output_type": "display_data"
    }
   ],
   "source": [
    "plt.bar(\n",
    "    x=score_counts.index,  \n",
    "    height=score_counts.values,  \n",
    "    width=0.5,  \n",
    "    align='center',  \n",
    "    edgecolor=\"black\",  \n",
    "    alpha=0.7  \n",
    ")\n",
    "\n",
    "plt.xlabel(\"Score Value\")\n",
    "plt.ylabel(\"Number\")\n",
    "plt.title(\"Distribution of Score Values\")\n",
    "\n",
    "plt.xticks([1, 2, 3, 4, 5])\n",
    "\n",
    "plt.show()"
   ]
  },
  {
   "cell_type": "code",
   "execution_count": 15,
   "metadata": {},
   "outputs": [],
   "source": [
    "score_table = df[\"score\"].value_counts().sort_index()"
   ]
  },
  {
   "cell_type": "code",
   "execution_count": 16,
   "metadata": {},
   "outputs": [],
   "source": [
    "score_table = score_table.reset_index()\n",
    "score_table.columns = [\"Score\", \"Number\"]"
   ]
  },
  {
   "cell_type": "code",
   "execution_count": 17,
   "metadata": {},
   "outputs": [
    {
     "name": "stdout",
     "output_type": "stream",
     "text": [
      " Score  Number\n",
      "   1.0      47\n",
      "   2.0      48\n",
      "   3.0      63\n",
      "   4.0     704\n",
      "   5.0    9578\n"
     ]
    }
   ],
   "source": [
    "print(score_table.to_string(index=False))"
   ]
  },
  {
   "cell_type": "markdown",
   "metadata": {},
   "source": [
    "Filtering the dialogues with a score of 3"
   ]
  },
  {
   "cell_type": "code",
   "execution_count": 18,
   "metadata": {},
   "outputs": [],
   "source": [
    "df_score_3 = df[df[\"score\"] == 3].copy()"
   ]
  },
  {
   "cell_type": "code",
   "execution_count": 19,
   "metadata": {},
   "outputs": [
    {
     "name": "stdout",
     "output_type": "stream",
     "text": [
      "                  id                                               text  \\\n",
      "51      SNG0798.json  ['Could you help me find the Cambridge Belfry ...   \n",
      "137    PMUL4021.json  ['Hello , can you recommend a 0-star hotel wit...   \n",
      "504    SNG02020.json  ['I need a taxi to take me to fitzbillies rest...   \n",
      "533    PMUL4696.json  ['is there a nice night club in the west that ...   \n",
      "581    PMUL1160.json  ['I am looking for a museum in town', 'We have...   \n",
      "...              ...                                                ...   \n",
      "9098   SNG01919.json  ['I need a taxi from the missing sock and I ne...   \n",
      "9761   SSNG0277.json  ['I want to find some information about a hote...   \n",
      "9794   PMUL1973.json  ['Can you help me find a train leaving Cambrid...   \n",
      "9872   WOZ20413.json  ['I need a restaurant that serves european foo...   \n",
      "10261  PMUL0963.json  ['Hi , I am planning a trip to Cambridge and n...   \n",
      "\n",
      "       score                                        explanation  \\\n",
      "51       3.0  The dialogue is partially coherent, but there ...   \n",
      "137      3.0  The dialogue is coherent but somewhat unnatura...   \n",
      "504      3.0  The dialogue is partially coherent. The bot pr...   \n",
      "533      3.0  The dialogue is partially coherent and natural...   \n",
      "581      3.0  The dialogue is partially coherent, but not en...   \n",
      "...      ...                                                ...   \n",
      "9098     3.0  The dialogue is partially coherent. The bot pr...   \n",
      "9761     3.0  The dialogue is partially coherent, but it lac...   \n",
      "9794     3.0  The dialogue is mostly coherent, but it lacks ...   \n",
      "9872     3.0  The dialogue is somewhat coherent, but the con...   \n",
      "10261    3.0  The dialogue is somewhat coherent, but it lack...   \n",
      "\n",
      "                                    assistance_functions  \n",
      "51     ['Orientation assistance', 'Consultant assista...  \n",
      "137    ['Offer assistance', 'Filter assistance', 'Coa...  \n",
      "504    ['Offer assistance', 'Coach assistance', 'Inpu...  \n",
      "533    ['Coach assistance', 'Offer assistance', 'Filt...  \n",
      "581       ['Offer assistance', 'Explanation assistance']  \n",
      "...                                                  ...  \n",
      "9098   ['Offer assistance', 'Consultant assistance', ...  \n",
      "9761   ['Offer assistance', 'Consultant assistance', ...  \n",
      "9794   ['Consultant assistance', 'Offer assistance', ...  \n",
      "9872                                ['Offer assistance']  \n",
      "10261  ['Offer assistance', 'Filter assistance', 'Con...  \n",
      "\n",
      "[63 rows x 5 columns]\n"
     ]
    }
   ],
   "source": [
    "print(df_score_3)"
   ]
  },
  {
   "cell_type": "code",
   "execution_count": 20,
   "metadata": {},
   "outputs": [],
   "source": [
    "df_score_3.to_csv(\"score_3.csv\", index=False)"
   ]
  },
  {
   "cell_type": "markdown",
   "metadata": {},
   "source": [
    "Coherence Score Annotation with 3-scores relabeled "
   ]
  },
  {
   "cell_type": "code",
   "execution_count": 22,
   "metadata": {},
   "outputs": [],
   "source": [
    "df_adapted = pd.read_csv(\"annotation_coherence_llama3-8b_adapted.csv\", delimiter=\";\")"
   ]
  },
  {
   "cell_type": "code",
   "execution_count": 23,
   "metadata": {},
   "outputs": [
    {
     "name": "stdout",
     "output_type": "stream",
     "text": [
      "                  id                                               text  \\\n",
      "0      SNG01856.json  ['am looking for a place to to stay that has c...   \n",
      "1       SNG0129.json  ['Hello , I have been robbed . Can you please ...   \n",
      "2       MUL2168.json  [\"Hi , I 'm looking for a train that is going ...   \n",
      "3      SNG01445.json  ['I was robbed a few minutes ago and need assi...   \n",
      "4       MUL2105.json  [\"Hi . I 'm looking for a hotel in the east . ...   \n",
      "...              ...                                                ...   \n",
      "10439   SNG0805.json  [\"I need one in the moderate price range . I w...   \n",
      "10440  SNG02198.json  ['I need a taxi to go to meghna .', 'And when ...   \n",
      "10441   SNG0253.json  ['I am looking for a train to Cambridge on Sat...   \n",
      "10442   MUL1076.json  ['Yes I am looking for some hotels that includ...   \n",
      "10443  PMUL1046.json  ['Where is the train that arrives at 11:00 and...   \n",
      "\n",
      "       score                                        explanation  \\\n",
      "0        5.0  The dialogue is coherent and natural. The bot ...   \n",
      "1        5.0  The dialogue is coherent and natural. The bot ...   \n",
      "2        5.0  The dialogue is coherent and natural. The bot ...   \n",
      "3        5.0  The dialogue is coherent and natural. The bot ...   \n",
      "4        5.0  The dialogue is coherent and natural. The bot ...   \n",
      "...      ...                                                ...   \n",
      "10439    5.0  The dialogue is coherent and natural. The bot ...   \n",
      "10440    5.0  The dialogue is coherent and natural. The bot ...   \n",
      "10441    5.0  The dialogue is coherent and natural. The bot ...   \n",
      "10442    5.0  The dialogue is coherent and natural. The bot ...   \n",
      "10443    2.0  The conversation starts well, with the bot pro...   \n",
      "\n",
      "                                    assistance_functions  \n",
      "0      ['Orientation assistance', 'Explanation assist...  \n",
      "1      ['Orientation assistance', 'Explanation assist...  \n",
      "2      ['Offer assistance', 'Consultant assistance', ...  \n",
      "3      ['Orientation assistance', 'Explanation assist...  \n",
      "4      ['Orientation assistance', 'Offer assistance',...  \n",
      "...                                                  ...  \n",
      "10439  ['Orientation assistance', 'Explanation assist...  \n",
      "10440  ['Orientation assistance', 'Offer assistance',...  \n",
      "10441  ['Orientation assistance', 'Explanation assist...  \n",
      "10442  ['Orientation assistance', 'Explanation assist...  \n",
      "10443  ['Orientation assistance', 'Explanation assist...  \n",
      "\n",
      "[10444 rows x 5 columns]\n"
     ]
    }
   ],
   "source": [
    "print(df_adapted)"
   ]
  },
  {
   "cell_type": "code",
   "execution_count": 24,
   "metadata": {},
   "outputs": [
    {
     "data": {
      "text/plain": [
       "score\n",
       "5.0    9591\n",
       "4.0     728\n",
       "2.0      67\n",
       "1.0      54\n",
       "Name: count, dtype: int64"
      ]
     },
     "execution_count": 24,
     "metadata": {},
     "output_type": "execute_result"
    }
   ],
   "source": [
    "df_adapted[\"score\"].value_counts()"
   ]
  },
  {
   "cell_type": "markdown",
   "metadata": {},
   "source": [
    "Analysis of the Coherence Annotation based on the acts of speeches"
   ]
  },
  {
   "cell_type": "code",
   "execution_count": 25,
   "metadata": {},
   "outputs": [],
   "source": [
    "df_acts = pd.read_csv(\"annotation_acts_llama3-8b.csv\")"
   ]
  },
  {
   "cell_type": "code",
   "execution_count": 26,
   "metadata": {},
   "outputs": [
    {
     "name": "stdout",
     "output_type": "stream",
     "text": [
      "                  id                                               text  \\\n",
      "0      SNG01856.json  ['user provides information to specify goal (h...   \n",
      "1       SNG0129.json  ['user provides information to specify goal (p...   \n",
      "2       MUL2168.json  ['user provides information to specify goal (t...   \n",
      "3      SNG01445.json  ['user provides information to specify goal (p...   \n",
      "4       MUL2105.json  ['user provides information to specify goal (h...   \n",
      "...              ...                                                ...   \n",
      "10434  PMUL0389.json  ['user provides information to specify goal (h...   \n",
      "10435   MUL0212.json  ['user provides information to specify goal (r...   \n",
      "10436   MUL2604.json  ['user provides information to specify goal (a...   \n",
      "10437   MUL0091.json  ['user provides information to specify goal (r...   \n",
      "10438   MUL1268.json  ['user provides information to specify goal (r...   \n",
      "\n",
      "       coherence  \n",
      "0            1.0  \n",
      "1            0.0  \n",
      "2            1.0  \n",
      "3            0.0  \n",
      "4            1.0  \n",
      "...          ...  \n",
      "10434        1.0  \n",
      "10435        1.0  \n",
      "10436        1.0  \n",
      "10437        1.0  \n",
      "10438        0.0  \n",
      "\n",
      "[10439 rows x 3 columns]\n"
     ]
    }
   ],
   "source": [
    "print(df_acts)"
   ]
  },
  {
   "cell_type": "code",
   "execution_count": 27,
   "metadata": {},
   "outputs": [
    {
     "data": {
      "text/plain": [
       "coherence\n",
       "1.0     8404\n",
       "0.0     2026\n",
       "3.0        1\n",
       "5.0        1\n",
       "4.0        1\n",
       "12.0       1\n",
       "2.0        1\n",
       "Name: count, dtype: int64"
      ]
     },
     "execution_count": 27,
     "metadata": {},
     "output_type": "execute_result"
    }
   ],
   "source": [
    "df_acts[\"coherence\"].value_counts()"
   ]
  },
  {
   "cell_type": "code",
   "execution_count": 29,
   "metadata": {},
   "outputs": [],
   "source": [
    "df_acts = df_acts[df_acts[\"coherence\"].isin([1.0, 0.0])]"
   ]
  },
  {
   "cell_type": "code",
   "execution_count": 30,
   "metadata": {},
   "outputs": [
    {
     "data": {
      "text/plain": [
       "coherence\n",
       "1.0    8404\n",
       "0.0    2026\n",
       "Name: count, dtype: int64"
      ]
     },
     "execution_count": 30,
     "metadata": {},
     "output_type": "execute_result"
    }
   ],
   "source": [
    "df_acts[\"coherence\"].value_counts()"
   ]
  },
  {
   "cell_type": "code",
   "execution_count": 31,
   "metadata": {},
   "outputs": [],
   "source": [
    "df_acts.to_csv(\"annotation_acts_llama3-8b.csv\", index=False)"
   ]
  },
  {
   "cell_type": "markdown",
   "metadata": {},
   "source": [
    "Comparison of the annotations"
   ]
  },
  {
   "cell_type": "code",
   "execution_count": 32,
   "metadata": {},
   "outputs": [],
   "source": [
    "merged_df = pd.merge(df, df_acts, on=\"id\", how=\"outer\")"
   ]
  },
  {
   "cell_type": "code",
   "execution_count": 33,
   "metadata": {},
   "outputs": [
    {
     "name": "stdout",
     "output_type": "stream",
     "text": [
      "                  id                                             text_x  \\\n",
      "0       AHY0529.json  [\"Hello , I 'm looking for a train . The train...   \n",
      "1      ENTM0404.json  ['Do you know what this city might have in ent...   \n",
      "2      HJHY0502.json  ['Do you have any museums there ?', 'We have s...   \n",
      "3      HMND4567.json  [\"I 'm also looking for a hotel to stay in . I...   \n",
      "4      HMUG2179.json  [\"I 'm looking for a hotel , can you help ?\", ...   \n",
      "...              ...                                                ...   \n",
      "10597   WZ00545.json  ['I would like a restaurant in the west part o...   \n",
      "10598   WZ20377.json  ['I would like an expensive restaurant in the ...   \n",
      "10599  WZJ61093.json  ['Hello , I am looking for a restaurant on the...   \n",
      "10600  WZKJ0478.json  [\"Can you help me find a restaurant in the sou...   \n",
      "10601  WZM14123.json  ['Can you direct me towards a moderately price...   \n",
      "\n",
      "       score                                        explanation  \\\n",
      "0        5.0  The dialogue is coherent and natural. The bot ...   \n",
      "1        4.0  The dialogue is coherent and natural. The bot ...   \n",
      "2        5.0  The dialogue is coherent and natural. The bot ...   \n",
      "3        5.0  The dialogue is coherent and natural. The bot ...   \n",
      "4        5.0  The dialogue is coherent and natural. The bot ...   \n",
      "...      ...                                                ...   \n",
      "10597    5.0  The dialogue is coherent and natural. The bot ...   \n",
      "10598    5.0  The dialogue is generally coherent, but it lac...   \n",
      "10599    5.0  The dialogue is coherent and natural. The bot ...   \n",
      "10600    5.0  The dialogue is coherent and natural. The bot ...   \n",
      "10601    5.0  The dialogue is coherent and natural. The bot ...   \n",
      "\n",
      "                                    assistance_functions text_y  coherence  \n",
      "0      ['Orientation assistance', 'Explanation assist...    NaN        NaN  \n",
      "1      ['Orientation assistance', 'Offer assistance',...    NaN        NaN  \n",
      "2      ['Orientation assistance', 'Explanation assist...    NaN        NaN  \n",
      "3      ['Orientation assistance', 'Explanation assist...    NaN        NaN  \n",
      "4      ['Orientation assistance', 'Explanation assist...    NaN        NaN  \n",
      "...                                                  ...    ...        ...  \n",
      "10597  ['Orientation assistance', 'Explanation assist...    NaN        NaN  \n",
      "10598  ['Orientation assistance', 'Offer assistance',...    NaN        NaN  \n",
      "10599  ['Offer assistance', 'Explanation assistance',...    NaN        NaN  \n",
      "10600  ['Offer assistance', 'Filter assistance', 'Exp...    NaN        NaN  \n",
      "10601  ['Orientation assistance', 'Filter assistance'...    NaN        NaN  \n",
      "\n",
      "[10602 rows x 7 columns]\n"
     ]
    }
   ],
   "source": [
    "print(merged_df)"
   ]
  },
  {
   "cell_type": "code",
   "execution_count": 34,
   "metadata": {},
   "outputs": [],
   "source": [
    "cleaned_df = merged_df.dropna(subset=[\"score\", \"coherence\"]).reset_index(drop=True)"
   ]
  },
  {
   "cell_type": "code",
   "execution_count": 35,
   "metadata": {},
   "outputs": [
    {
     "name": "stdout",
     "output_type": "stream",
     "text": [
      "                  id                                             text_x  \\\n",
      "0       MUL0001.json  [\"I 'd really like to take my client out to a ...   \n",
      "1       MUL0002.json  ['Looking for a place to eat in the city cente...   \n",
      "2       MUL0003.json  [\"I 'm looking for a place to stay . It needs ...   \n",
      "3       MUL0004.json  [\"I 'm looking for a restaurant in Cambridge c...   \n",
      "4       MUL0005.json  ['Is there any expensive seafood restaurant in...   \n",
      "...              ...                                                ...   \n",
      "10263  WOZ20671.json  ['Hello , I am looking for a cheap restaurant ...   \n",
      "10264  WOZ20672.json  ['I want to find a restaurant in the south par...   \n",
      "10265  WOZ20673.json  ['I am looking for a restaurant that serves Mo...   \n",
      "10266  WOZ20674.json  [\"Hi .   I 'm trying to find a good restaurant...   \n",
      "10267  WOZ20675.json  ['I am interested in a restaurant located in t...   \n",
      "\n",
      "       score                                        explanation  \\\n",
      "0        5.0  The dialogue is coherent and natural. The bot ...   \n",
      "1        5.0  The dialogue is coherent and natural. The bot ...   \n",
      "2        5.0  The dialogue is coherent and natural. The bot ...   \n",
      "3        5.0  The dialogue is coherent and natural. The bot ...   \n",
      "4        5.0  The dialogue is coherent and natural. The bot ...   \n",
      "...      ...                                                ...   \n",
      "10263    5.0  The dialogue is coherent and natural. The bot ...   \n",
      "10264    5.0  The dialogue is coherent and natural. The bot ...   \n",
      "10265    5.0  The dialogue is coherent and natural. The bot ...   \n",
      "10266    1.0  The dialogue is partially coherent. The bot pr...   \n",
      "10267    5.0  The dialogue is coherent and natural. The bot ...   \n",
      "\n",
      "                                    assistance_functions  \\\n",
      "0      ['Consultant assistance', 'Offer assistance', ...   \n",
      "1      ['Orientation assistance', 'Explanation assist...   \n",
      "2      ['Offer assistance', 'Input assistance', 'Feed...   \n",
      "3      ['8. Consultant assistance', '9. Delegation as...   \n",
      "4      ['Orientation assistance', 'Explanation assist...   \n",
      "...                                                  ...   \n",
      "10263  ['Orientation assistance', 'Explanation assist...   \n",
      "10264  ['Offer assistance', 'Filter assistance', 'Exp...   \n",
      "10265  ['Offer assistance', 'Filter assistance', 'Exp...   \n",
      "10266           ['Offer assistance', 'Coach assistance']   \n",
      "10267  ['Orientation assistance', 'Explanation assist...   \n",
      "\n",
      "                                                  text_y  coherence  \n",
      "0      ['user provides information to specify goal (r...        1.0  \n",
      "1      ['user provides information to specify goal (r...        1.0  \n",
      "2      ['user provides information to specify goal (h...        1.0  \n",
      "3      ['user provides information to specify goal (r...        1.0  \n",
      "4      ['user provides information to specify goal (r...        0.0  \n",
      "...                                                  ...        ...  \n",
      "10263  ['user provides information to specify goal (r...        1.0  \n",
      "10264  ['user provides information to specify goal (r...        1.0  \n",
      "10265  ['user provides information to specify goal (r...        1.0  \n",
      "10266  ['user provides information to specify goal (r...        0.0  \n",
      "10267                                                 []        0.0  \n",
      "\n",
      "[10268 rows x 7 columns]\n"
     ]
    }
   ],
   "source": [
    "print(cleaned_df)"
   ]
  },
  {
   "cell_type": "code",
   "execution_count": 36,
   "metadata": {},
   "outputs": [],
   "source": [
    "cleaned_df[\"score\"] = cleaned_df[\"score\"].apply(lambda x: 1.0 if x >= 4.0 else 0.0)"
   ]
  },
  {
   "cell_type": "code",
   "execution_count": 37,
   "metadata": {},
   "outputs": [
    {
     "name": "stdout",
     "output_type": "stream",
     "text": [
      "2049\n"
     ]
    }
   ],
   "source": [
    "mismatched_rows = cleaned_df[cleaned_df[\"score\"] != cleaned_df[\"coherence\"]]\n",
    "print(len(mismatched_rows))"
   ]
  }
 ],
 "metadata": {
  "kernelspec": {
   "display_name": "Python 3",
   "language": "python",
   "name": "python3"
  },
  "language_info": {
   "codemirror_mode": {
    "name": "ipython",
    "version": 3
   },
   "file_extension": ".py",
   "mimetype": "text/x-python",
   "name": "python",
   "nbconvert_exporter": "python",
   "pygments_lexer": "ipython3",
   "version": "3.9.6"
  }
 },
 "nbformat": 4,
 "nbformat_minor": 2
}
