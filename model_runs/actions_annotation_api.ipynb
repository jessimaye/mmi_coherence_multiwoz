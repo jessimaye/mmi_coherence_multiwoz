{
 "cells": [
  {
   "cell_type": "code",
   "execution_count": 1,
   "metadata": {},
   "outputs": [],
   "source": [
    "from openai import OpenAI\n",
    "import json"
   ]
  },
  {
   "cell_type": "code",
   "execution_count": 2,
   "metadata": {},
   "outputs": [],
   "source": [
    "prompt_actions = \"\"\"\n",
    "\n",
    "    Here follows a sequence of annotated dialogue actions between a user and an assistance bot. This sequenece comes in the form of a dictionary, where the key is the name of the dialog and the value a list of acts of speeches within the dialogue.\n",
    "\n",
    "    Please determine for each dialogue whether it is coherent or not. There are hints for coherence in the sequences, for example \"user assumes coherence\", or the bot talks about the same topic as the user. A sequence is also coherent when the statements build on each other logically, for example after requests information/confirmation follows gives or provides information.\n",
    "\n",
    "    If a dialogue is coherent please provide 1 for coherence, if not 0.\n",
    "\n",
    "\n",
    "    Output must be in this exact JSON format: (Any deviation from this format is an error.): \n",
    "\n",
    "    {id: {text: dialog, coherence: coherence}}\n",
    "\n",
    "\n",
    "\n",
    "    Rules for output format:\n",
    "\n",
    "    The \"id\" must match the dialogue name in the input dictionary.\n",
    "\n",
    "    Each \"id\" is unique. If \"id\" does not match the input, it is an error.\n",
    "\n",
    "    The response must be a single, valid JSON object. No extra text outside of JSON.\n",
    "\n",
    "    Each key must have the correct type:\n",
    "\n",
    "    \"id\" → A string in \"SSNG0362.json\" format,taken from input.\n",
    "\n",
    "    \"text\" → A list of strings, preserving the original dialogue.\n",
    "\n",
    "    \"coherence\" → An integer (0,1 — no other values). \n",
    "\n",
    "\n",
    "\n",
    "    Strict JSON formatting: The response should be machine-readable JSON without missing brackets, extra text, or invalid syntax.\n",
    "\n",
    "    Step-by-step generation: First extract the dialogue, then determine the score, then format in JSON.\n",
    "\n",
    "    Before outputting, check that the JSON is valid.\n",
    "\n",
    "    It is very important that the output is not any kind of code. If the output is not in JSON format, redo it until it is in JSON format.\n",
    "\n",
    "\"\"\""
   ]
  },
  {
   "cell_type": "markdown",
   "metadata": {},
   "source": [
    "Extracting of the IDs and the dialogue paths from the annotated dataset"
   ]
  },
  {
   "cell_type": "code",
   "execution_count": 3,
   "metadata": {},
   "outputs": [],
   "source": [
    "f = open('multi_woz_dialogue_json.json', 'r')\n",
    "data = json.load(f)\n",
    "f.close()"
   ]
  },
  {
   "cell_type": "code",
   "execution_count": 4,
   "metadata": {},
   "outputs": [],
   "source": [
    "dialogs = {}\n",
    "\n",
    "for key, value in data.items():\n",
    "    dialogs[key] = []\n",
    "    for entry in value:\n",
    "        dialogs[key].append(entry)"
   ]
  },
  {
   "cell_type": "code",
   "execution_count": 5,
   "metadata": {},
   "outputs": [
    {
     "name": "stdout",
     "output_type": "stream",
     "text": [
      "SNG01856.json: ['user provides information to specify goal (hotel)', 'user provides information to specify goal (hotel)', 'bot requests confirmation of the suggested booking', 'bot gives feedback that search (hotel) resulted in many options.', 'user provides information to specify goal (hotel)', 'user provides information to specify goal (hotel)', 'bot starts new task', 'user says bye', 'bot says bye']\n",
      "\n",
      "SNG0129.json: ['user provides information to specify goal (police)', 'user requests information about task state (police)', 'user requests information about task state (police)', 'user says thank', 'bot says welcome']\n",
      "\n",
      "MUL2168.json: ['user provides information to specify goal (train)', 'bot gives feedback that search (train) resulted in many options.', 'user provides information to specify goal (train)', 'user provides information to specify goal (train)', 'bot provides information for train', 'bot requests confirmation of the suggested booking', 'user provides information to specify goal (train)', 'bot gives feedback that booking (train) has succeeded', 'user provides information to specify goal (train)', 'bot gives feedback that booking (train) has succeeded', 'user provides information to specify goal (hotel)', 'bot requests confirmation of the suggested hotel', 'user provides information to specify goal (hotel)', 'user says thank', 'bot says bye']\n",
      "\n",
      "SNG01445.json: ['user provides information to specify goal (police)', 'user requests information about task state (police)', 'user says thank', 'bot says greet', 'user says bye', 'user says greet', 'bot says bye']\n",
      "\n",
      "MUL2105.json: ['user provides information to specify goal (hotel)', 'bot gives feedback that search (hotel) resulted in many options.', 'user provides information to specify goal (hotel)', 'bot provides information for hotel', 'bot starts new task', 'user provides information to specify goal (hotel)', 'bot gives feedback that search (hotel) resulted in many options.', 'user provides information to specify goal (hotel)', 'bot requests confirmation of the suggested booking', 'bot gives feedback that search (hotel) resulted in many options.', 'user provides information to specify goal (hotel)', 'user requests information about task state (hotel)', 'bot requests confirmation of the suggested hotel', 'user provides information to specify goal (train)', 'user provides information to specify goal (train)', 'bot provides information for train', 'user provides information to specify goal (train)', 'bot gives feedback that booking (train) has succeeded', 'bot starts new task', 'user says bye', 'bot says bye']\n",
      "\n",
      "PMUL1690.json: ['user provides information to specify goal (train)', 'user provides information to specify goal (train)', 'bot gives feedback that booking (train) has failed', 'user provides information to specify goal (train)', 'bot requests confirmation of the suggested booking', 'user provides information to specify goal (train)', 'user requests information about task state (train)', 'bot gives feedback that search (train) resulted in many options.', 'user provides information to specify goal (hotel)', 'bot gives feedback that search (hotel) resulted in many options.', 'user provides information to specify goal (hotel)', 'bot gives feedback that search (hotel) resulted in many options.', 'bot requests confirmation of the suggested booking', 'user requests information about task state (hotel)', 'user provides information to specify goal (hotel)', 'user provides information to specify goal (hotel)', 'bot starts new task', 'user says thank', 'bot says bye']\n",
      "\n",
      "MUL2395.json: ['user provides information to specify goal (attraction)', 'bot gives feedback that search (attraction) resulted in many options.', 'user provides information to specify goal (attraction)', 'bot requests confirmation of the suggested attraction', 'bot starts new task', 'user provides information to specify goal (restaurant)', 'user requests information about task state (attraction)', 'bot provides information for attraction', 'user provides information to specify goal (restaurant)', 'bot gives feedback that booking (restaurant) has failed', 'user provides information to specify goal (attraction)', 'user provides information to specify goal (restaurant)', 'user requests information about task state (attraction)', 'bot provides information for restaurant', 'bot provides information for attraction', 'user requests information about task state (restaurant)', 'bot starts new task', 'bot provides information for restaurant', 'user says thank', 'bot says bye', 'bot says welcome']\n",
      "\n",
      "SNG0190.json: ['user provides information to specify goal (hospital)', 'user requests information about task state (hospital)', 'bot provides information for hospital', 'bot starts new task', 'user says thank', 'bot says bye']\n",
      "\n",
      "PMUL1170.json: ['user provides information to specify goal (train)', 'bot gives feedback that search (train) resulted in many options.', 'user provides information to specify goal (train)', 'bot provides information for train', 'bot requests confirmation of the suggested booking', 'user requests information about task state (train)', 'bot provides information for train', 'bot requests confirmation of the suggested booking', 'user provides information to specify goal (train)', 'user requests information about task state (train)', 'bot starts new task', 'bot gives feedback that booking (train) has succeeded', 'user provides information to specify goal (attraction)', 'user requests information about task state (attraction)', 'bot starts new task', 'bot provides information for attraction', 'user says thank', 'bot says bye', 'bot says welcome']\n",
      "\n",
      "SNG01741.json: ['user provides information to specify goal (hospital)', 'bot provides information for hospital', 'user requests information about task state (hospital)', 'bot says bye']\n",
      "\n"
     ]
    }
   ],
   "source": [
    "count = 0\n",
    "for key, dialog in dialogs.items():\n",
    "    print(f\"{key}: {dialog}\\n\")\n",
    "    count += 1\n",
    "    if count == 10:\n",
    "        break"
   ]
  },
  {
   "cell_type": "markdown",
   "metadata": {},
   "source": [
    "Transfer of data and prompt to the model;\n",
    "Saving the results in a list"
   ]
  },
  {
   "cell_type": "code",
   "execution_count": null,
   "metadata": {},
   "outputs": [],
   "source": [
    "# API configuration\n",
    "api_key = '' # Replace with your API key\n",
    "base_url = \"https://chat-ai.academiccloud.de/v1\" \n",
    "model = \"meta-llama-3.1-8b-instruct\" # llama-3.3-70b-instruct\n",
    "\n",
    "# Start OpenAI client\n",
    "client = OpenAI(\n",
    "api_key = api_key,\n",
    "base_url = base_url\n",
    ")\n",
    "liste =[]\n",
    "# Get response\n",
    "for key, value in dialogs.items():\n",
    "    dic_test = {}\n",
    "    dic_test[key] = value\n",
    "    chat_completion = client.chat.completions.create(\n",
    "    messages=[{\"role\":\"system\",\"content\":prompt_actions + str(dic_test)}],\n",
    "    model= model,\n",
    "    )\n",
    "    for choice in chat_completion.choices:\n",
    "        liste.append(choice.message.content)"
   ]
  },
  {
   "cell_type": "code",
   "execution_count": null,
   "metadata": {},
   "outputs": [],
   "source": [
    "print(len(liste))"
   ]
  },
  {
   "cell_type": "code",
   "execution_count": 8,
   "metadata": {},
   "outputs": [
    {
     "name": "stdout",
     "output_type": "stream",
     "text": [
      "File written successfully\n"
     ]
    }
   ],
   "source": [
    "with open('actions_llama3-8b.txt', 'w+') as f:\n",
    "    \n",
    "    for items in liste:\n",
    "        f.write('%s\\n' %items)\n",
    "    \n",
    "    print(\"File written successfully\")\n",
    "\n",
    "f.close() "
   ]
  }
 ],
 "metadata": {
  "kernelspec": {
   "display_name": "Python 3",
   "language": "python",
   "name": "python3"
  },
  "language_info": {
   "codemirror_mode": {
    "name": "ipython",
    "version": 3
   },
   "file_extension": ".py",
   "mimetype": "text/x-python",
   "name": "python",
   "nbconvert_exporter": "python",
   "pygments_lexer": "ipython3",
   "version": "3.9.6"
  }
 },
 "nbformat": 4,
 "nbformat_minor": 2
}
