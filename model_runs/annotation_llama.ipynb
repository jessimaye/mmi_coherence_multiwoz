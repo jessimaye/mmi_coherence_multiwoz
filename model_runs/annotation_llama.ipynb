{
 "cells": [
  {
   "cell_type": "code",
   "execution_count": 1,
   "metadata": {},
   "outputs": [
    {
     "name": "stdout",
     "output_type": "stream",
     "text": [
      "Defaulting to user installation because normal site-packages is not writeable\n",
      "Requirement already satisfied: ollama in /Users/jessi/Library/Python/3.9/lib/python/site-packages (0.4.7)\n",
      "Requirement already satisfied: httpx<0.29,>=0.27 in /Users/jessi/Library/Python/3.9/lib/python/site-packages (from ollama) (0.28.1)\n",
      "Requirement already satisfied: pydantic<3.0.0,>=2.9.0 in /Users/jessi/Library/Python/3.9/lib/python/site-packages (from ollama) (2.10.6)\n",
      "Requirement already satisfied: httpcore==1.* in /Users/jessi/Library/Python/3.9/lib/python/site-packages (from httpx<0.29,>=0.27->ollama) (1.0.7)\n",
      "Requirement already satisfied: anyio in /Users/jessi/Library/Python/3.9/lib/python/site-packages (from httpx<0.29,>=0.27->ollama) (4.9.0)\n",
      "Requirement already satisfied: certifi in /Users/jessi/Library/Python/3.9/lib/python/site-packages (from httpx<0.29,>=0.27->ollama) (2025.1.31)\n",
      "Requirement already satisfied: idna in /Users/jessi/Library/Python/3.9/lib/python/site-packages (from httpx<0.29,>=0.27->ollama) (3.10)\n",
      "Requirement already satisfied: h11<0.15,>=0.13 in /Users/jessi/Library/Python/3.9/lib/python/site-packages (from httpcore==1.*->httpx<0.29,>=0.27->ollama) (0.14.0)\n",
      "Requirement already satisfied: pydantic-core==2.27.2 in /Users/jessi/Library/Python/3.9/lib/python/site-packages (from pydantic<3.0.0,>=2.9.0->ollama) (2.27.2)\n",
      "Requirement already satisfied: annotated-types>=0.6.0 in /Users/jessi/Library/Python/3.9/lib/python/site-packages (from pydantic<3.0.0,>=2.9.0->ollama) (0.7.0)\n",
      "Requirement already satisfied: typing-extensions>=4.12.2 in /Users/jessi/Library/Python/3.9/lib/python/site-packages (from pydantic<3.0.0,>=2.9.0->ollama) (4.12.2)\n",
      "Requirement already satisfied: exceptiongroup>=1.0.2 in /Users/jessi/Library/Python/3.9/lib/python/site-packages (from anyio->httpx<0.29,>=0.27->ollama) (1.2.2)\n",
      "Requirement already satisfied: sniffio>=1.1 in /Users/jessi/Library/Python/3.9/lib/python/site-packages (from anyio->httpx<0.29,>=0.27->ollama) (1.3.1)\n",
      "\u001b[33mWARNING: You are using pip version 21.2.4; however, version 25.0.1 is available.\n",
      "You should consider upgrading via the '/Applications/Xcode.app/Contents/Developer/usr/bin/python3 -m pip install --upgrade pip' command.\u001b[0m\n",
      "Note: you may need to restart the kernel to use updated packages.\n"
     ]
    }
   ],
   "source": [
    "pip install ollama"
   ]
  },
  {
   "cell_type": "code",
   "execution_count": 2,
   "metadata": {},
   "outputs": [],
   "source": [
    "import json\n",
    "from ollama import Client"
   ]
  },
  {
   "cell_type": "code",
   "execution_count": 3,
   "metadata": {},
   "outputs": [],
   "source": [
    "f = open('data.json', 'r')\n",
    "data = json.load(f)\n",
    "f.close()"
   ]
  },
  {
   "cell_type": "markdown",
   "metadata": {},
   "source": [
    "Extrahieren der IDs und Dialogtexte aus dem MultiWOZ-Datensatz"
   ]
  },
  {
   "cell_type": "code",
   "execution_count": 4,
   "metadata": {},
   "outputs": [],
   "source": [
    "dialogs = {}\n",
    "\n",
    "for key, value in data.items():\n",
    "    dialogs[key] = []\n",
    "    for entry in value[\"log\"]:\n",
    "        dialogs[key].append(entry[\"text\"])"
   ]
  },
  {
   "cell_type": "code",
   "execution_count": 5,
   "metadata": {},
   "outputs": [
    {
     "name": "stdout",
     "output_type": "stream",
     "text": [
      "SNG01856.json: ['am looking for a place to to stay that has cheap price range it should be in a type of hotel', 'Okay , do you have a specific area you want to stay in ?', \"no , i just need to make sure it 's cheap . oh , and i need parking\", 'I found 1 cheap hotel for you that includes parking . Do you like me to book it ?', 'Yes , please . 6 people 3 nights starting on tuesday .', \"I am sorry but I was n't able to book that for you for Tuesday . Is there another day you would like to stay or perhaps a shorter stay ?\", 'how about only 2 nights .', 'Booking was successful . \\n Reference number is : 7GAWK763 . Anything else I can do for you ?', 'No , that will be all . Good bye .', 'Thank you for using our services .']\n",
      "\n",
      "SNG0129.json: ['Hello , I have been robbed .   Can you please help me get in touch with the police ?', 'Parkside Police Station is in Parkside , Cambridge . Their number is 01223358966 . Anything else I can do for you ?', 'Can I please have the postcode as well ?', 'The postcode for the Parkside Police Station is CB11JG . Can I help you with anything else ?', 'Was Parkside the address of the police station ? If not , can I have the address please ?', 'Yes , Parkside is the address .', 'Thank you that will be all for now .', 'Great . Thank you for contacting Cambridge Towninfo Centre .', 'You were great . Goodbye .', 'We are happy to help . Have a good day !']\n",
      "\n",
      "MUL2168.json: [\"Hi , I 'm looking for a train that is going to cambridge and arriving there by 20:45 , is there anything like that ?\", 'There are over 1,000 trains like that .   Where will you be departing from ?', 'I am departing from birmingham new street .', 'Can you confirm your desired travel day ?', 'I would like to leave on wednesday', 'I show a train leaving birmingham new street at 17:40 and arriving at 20:23 on Wednesday .   Will this work for you ?', 'That will , yes . Please make a booking for 5 people please .', \"I 've booked your train tickets , and your reference number is A9NHSO9Y .\", 'Thanks so much . I would also need a place to say . I am looking for something with 4 stars and has free wifi .', 'How about the cambridge belfry ?   It has all the attributes you requested and a great name !   Maybe even a real belfry ?', 'That sounds great , could you make a booking for me please ?', 'What day would you like your booking for ?', 'Please book it for Wednesday for 5 people and 5 nights , please .', 'Booking was successful . Reference number is : 5NAWGJDC .', 'Thank you , goodbye', \"Goodbye . If you think of anything else you need do n't hesitate to contact us .\"]\n",
      "\n",
      "SNG01445.json: ['I was robbed a few minutes ago and need assistance .', 'Please contact the Parkside , Cambridge police station .', 'I need the address including postcode of the police station and also the phone number .', 'Of course . Their address is Parkside , Cambridge postcode CB11JG and phone number is 01223358966 .', \"Thank you . That 's all I needed .\", 'You are more than welcome !', 'Ok , have a good day . Goodbye .', 'You are very welcome . Goodbye .']\n",
      "\n",
      "MUL2105.json: [\"Hi . I 'm looking for a hotel in the east .   The internet is not needed .\", \"There are no hotels that do not have internet , but 7 which do have it . Do you have a specific price range you 'd prefer ?\", 'no , but it should have free parking , please .', 'The Express by Holiday Inn Cambridge is in the area and has free parking , would you like more information ?', \"Is that a guesthouse or a hotel ? I 'd really prefer a guesthouse .\", \"It 's a hotel . There are 5 guesthouses in the area . Do you prefer cheap or moderate for the price range ?\", \"The price does n't really matter . I just need free parking . It does n't really need to have internet though .\", 'There are 5 guesthouses that have free parking . Should I book one of them for you ?', \"Okay , none of them DON'T offer free wifi ? If not , I 'll need the address for one that does have wifi , please . Tell me about your favorite .\", 'The allenbell is a guesthouse on the east .   The addres sis 517a coldham lane post code cb13js .', \"Great . Can you help me with a train as well ? I 'm looking to come in from Ely .\", 'What is your destination ? And do you have any preference for day , departure or arrival time ?', 'I want to go from cambridge to ely , no preference for time but I need to book for 8 people .', \"There are trains that run every two hours every day starting at 5:50 . Do you know what day you 'd like to travel ?\", \"I 'm looking for Wednesday , arrive by 11:30 for 8 people Please .\", 'Booking was successful , the total fee is 35.2 GBP payable at the station . You reference number is 7ZCVR4Q3 . Can I help you with anything else ?', \"No , I do n't need anything else right now .   Thank you for your assistance .   Good Bye .\", 'Thank you and enjoy your visit . Have a great day .']\n",
      "\n",
      "PMUL1690.json: ['I need to take a train from Norwich , leaving after 21:15 .', 'Where would you like to go to ?', 'I would like to go to Ely please .', \"I do n't have any listings for trains leaving Norwich and arriving in Ely . Would you like to try a different departure station ?\", 'I meant Cambridge please . I would like to arrive in Cambridge on Monday after 21:15 .', 'Ok I will book that for you and get you a confirmation number', \"I do n't need anything booked .   I just need to get the arrival time , travel time and price of a train from norwich to cambridge leaving after 21:15 .\", 'There are trains arriving at 22:35 , 23:35 and 24:35 . They are 17.60 pounds and 79 minutes each .', \"Great , thanks ! I 'm also looking for a 4 star hotel in the north . Can you please help with that ?\", 'There are several that meet your criteria . Is there a price range you are interested in ?', 'I would like to keep it in the moderate range , please .', 'I see 7 options . They are all guesthouses . Do you have preferences for internet and parking ?', 'I do not have a preference on those things .', 'Shall I try to start and book you into one ?', 'Please book it and provide the reference number .', 'How many nights will you be staying ?', 'Please book the hotel for 4 people and 2 nights .   Thank you .', 'What day will you be arriving ?', 'the same day ... monday please .', 'I apologize , some of our new workers have phobias of the booking system , I booked you at Acorn guest house , the reference number is 04CSEO7Q any other questions ?', \"That 's all I need for today .   Thanks for your help !\", \"I 'm happy to help , and I hope you enjoy your stay !\"]\n",
      "\n",
      "MUL2395.json: ['I am planning a trip to town and want to sight see a bit . Can you let me know some attractions I may be interested in ?', 'There are 79 attractions in the city . Do you have a specific type of attraction or specific area of the attraction that you are interested in ?', \"I 'd like something in the centre .\", 'Great ! How about All Saints Church ? It has fantastic architecture and free entrance . Would you like more information ?', 'Could I get the address for it ? I would also like an expensive place to eat around it .', 'The address is Jesus Lane . What type of food would you like to eat ?', \"I 'm in the mood for Caribbean food .\", 'Unfortunately , there are no expensive caribbean restaurants in that area . Would you like me to check a different type of cuisine , or another area ?', \"Yes , I also love turkish food . Is there something in the center that 's expensive ? Also , what type of attraction is All Saints Church ?\", 'The Meze Bar Restaurant is an expensive Turkish restaurant in the city centre .   The All Saints Church is an architecture attraction .', 'Can I have the phone number , address and postcode for the restaurant please ?', \"I do n't have a phone number available , but the address is 196 Mill Road City Centre , postal code cb13nf . Anything else I can do for you ?\", \"Great that 's all that I needed to know , thank you !\", \"You 're welcome , feel free to contact us about anything else you need .\"]\n",
      "\n",
      "SNG0190.json: [\"I 've been injured and need to find a hospital nearby .\", 'The Addenbrookes Hospital is located at Hills Rd . , Cambridge . Are you looking for a specific department ?', 'No , I just need the general phone number , please .', '01223245151 , is the number . Do you need anything else ?', 'Thank you that will do .', 'Feel better soon ! Have a better night !']\n",
      "\n",
      "PMUL1170.json: ['I need to take a train out of Cambridge , I will be leaving town on Wednesday .', 'There are 5 trains out of Cambridge on Wednesday . Do you have a departure time in mind ?', \"I 'd like to go to peterborough and leave after 12:45 , I have to attend a meeting beforehand .\", 'TR1879 leaves at 13:06 on Wednesday .   Will that work for you ?', 'What is the price of the fair and could you tell me what is the arrival time into Peterborough ?', 'The price is 16.50 pounds and the train will arrive in Peterborough by 13:56 Wednesday .   Would you like me to book a ticket for you ?', 'Yes , one ticket please , can I also get the reference number ?', 'I booked you one seat on TR1879 departing Cambridge for Peterborough on Wednesday at 13:06 , Reference : xu1qlhvw . Can I help further today ?', 'I am also looking for a museum in centre . Could you give me the address , postcode and phone number of one ?', 'The Broughton House Gallery is located at 98 King Street , postcode cb11ln . Their phone number is 01223314960 . Is there anything else you need ?', \"That 's all I need right now . Thanks , you have been very helpful !\", \"You 're welcome , I hope you enjoy your time in Cambridge !\"]\n",
      "\n",
      "SNG01741.json: ['I am looking in town   for a hospital with a paediatric clinic', 'Addenbrookes Hosptial on Hills Rd . in Cambridge has a paediatric clinic .', 'I need the address and phone number and postal code', 'Great . Thank you and goodbye .']\n",
      "\n"
     ]
    }
   ],
   "source": [
    "count = 0\n",
    "for key, dialog in dialogs.items():\n",
    "    print(f\"{key}: {dialog}\\n\")\n",
    "    count += 1\n",
    "    if count == 10:\n",
    "        break"
   ]
  },
  {
   "cell_type": "code",
   "execution_count": 6,
   "metadata": {},
   "outputs": [],
   "source": [
    "llm_prompt = \"\"\"\n",
    "Here follows a list of dialogues between a user and an assistant-bot. The first utterance is always from the user, followed by the bot, and so on.\n",
    "Please analyze if this conversation is coherent and rate it on a coherence-score from 1 to 5, where:\n",
    "1 = Absolutely incoherent\n",
    "5 = Perfectly coherent\n",
    "\n",
    "Provide an explanation for your score. Follow these rules when determining coherence:\n",
    "1. A dialogue is coherent if the bot completes the task set by the user.\n",
    "2. A dialogue is coherent if it is natural, meaning the bot does not repeat itself excessively, avoids robotic behavior, and maintains logical consistency.\n",
    "3. The dialogue should be logically connected, with responses building on previous turns. This should be given the most weight in scoring.\n",
    "4. The conversation should logically adhere to achieving the user’s goal step by step.\n",
    "\n",
    "Additionally, identify the assistance functions the bot performs in the dialogue. A bot can perform multiple functions.\n",
    "Possible assistance functions: \n",
    "1. Activation assistance: Creation of an optimal activation level.\n",
    "2. Coach assistance: Reinforcement of a motif.\n",
    "3. Warning assistance: Inhibition of a motif.\n",
    "4. Orientation assistance: Suggestion of a change of destination.\n",
    "5. Explanation assistance: Explanation of system outputs.\n",
    "6. Offer assistance: Information about all options.\n",
    "7. Filter assistance: Information about selected options.\n",
    "8. Consultant assistance: Suggestion of an option.\n",
    "9. Delegation assistance: Proposal and realisation, if the user agrees.\n",
    "10. Takeover assistance: Proposal and realisation, if the user does not disagree.\n",
    "11. Informative execution assistance: Realisation with information for the user.\n",
    "12. Silent execution assistance: Realisation without information for the user.\n",
    "13. Power assistance: Reinforcing actions.\n",
    "14. Short cut assistance: Shortening an action sequence.\n",
    "15. Input assistance: Provide alternative modalities.\n",
    "16. Feedback assistance: Making effects perceptible.\n",
    "17. Critique assistance: Evaluate the degree of target achievement.\n",
    "\n",
    "Output must be in this exact JSON format: (Any deviation from this format is an error.)\n",
    "{\"id\": \"<EXACT ID FROM INPUT, e.g., 'SSNG0362.json'>\",  \n",
    "\"text\": [\"Hello , I have been robbed . Can you please help me get in touch with the police ?\",  \n",
    "         \"Parkside Police Station is in Parkside , Cambridge . Their number is 01223358966 . Anything else I can do for you ?\",  \n",
    "         \"Can I please have the postcode as well ?\",  \n",
    "         \"The postcode for the Parkside Police Station is CB11JG . Can I help you with anything else ?\",  \n",
    "         \"Was Parkside the address of the police station ? If not , can I have the address please ?\",  \n",
    "         \"Yes , Parkside is the address .\",  \n",
    "         \"Thank you that will be all for now .\",  \n",
    "         \"Great . Thank you for contacting Cambridge Towninfo Centre .\",  \n",
    "         \"You were great . Goodbye .\",  \n",
    "         \"We are happy to help . Have a good day !\"],\n",
    "\"score\": 5,  \n",
    "\"explanation of score\": \"The dialogue is coherent and natural. The bot provides relevant information to the user's request, answering their questions and providing the necessary details. The conversation flows logically, with each response building upon the previous one. Overall, the dialogue is well-structured and effectively addresses the user's concerns.\",  \n",
    "\"assistance functions\": [\"Orientation assistance\", \"Explanation assistance\", \"Filter assistance\"]  \n",
    "}\n",
    "\n",
    "Rules for output format:\n",
    "The \"id\" must match the dialogue name in the input dictionary. Do not reuse any example \"id\" from this prompt.\n",
    "Each \"id\" is unique. If \"id\" does not match the input, it is an error.\n",
    "The response must be a single, valid JSON object. No extra text outside of JSON.\n",
    "Each key must have the correct type:\n",
    "\"id\" → A string in \"SSNGXXXX.json\" format,taken from input.\n",
    "\"text\" → A list of strings, preserving the original dialogue.\n",
    "\"score\" → An integer (1, 2, 3, 4, or 5—no other values).\n",
    "\"explanation of score\" → A well-reasoned explanation.\n",
    "\"assistance functions\" → A list containing only predefined assistance functions.\n",
    "Strict JSON formatting: The response should be machine-readable JSON without missing brackets, extra text, or invalid syntax.\n",
    "Step-by-step generation: First extract the dialogue, then determine the score, then explain, then identify functions, then format in JSON.\n",
    "Before outputting, check that the JSON is valid.\n",
    "\"\"\""
   ]
  },
  {
   "cell_type": "markdown",
   "metadata": {},
   "source": [
    "Übergabe der Daten und des Prompts an das Modell\n",
    "Speichern der Ergebnisse in einer Liste"
   ]
  },
  {
   "cell_type": "code",
   "execution_count": null,
   "metadata": {},
   "outputs": [],
   "source": [
    "llm = Client(host=\"http://hcai.uni-regensburg.de:11434\")\n",
    "liste = []\n",
    "for key, value in dialogs.items():\n",
    "    dic_test = {}\n",
    "    dic_test[key] = value\n",
    "    mess = llm.chat(model='llama3.3:latest', #kleines Modell: llama3:latest\n",
    "                messages=[{'role': 'system',\n",
    "                            'content': llm_prompt + str(dic_test)},\n",
    "                         ])\n",
    "    liste.append(mess['message']['content'])"
   ]
  },
  {
   "cell_type": "code",
   "execution_count": null,
   "metadata": {},
   "outputs": [],
   "source": [
    "print(len(liste))"
   ]
  },
  {
   "cell_type": "code",
   "execution_count": null,
   "metadata": {},
   "outputs": [],
   "source": [
    "print(liste)"
   ]
  },
  {
   "cell_type": "code",
   "execution_count": 20,
   "metadata": {},
   "outputs": [
    {
     "name": "stdout",
     "output_type": "stream",
     "text": [
      "File written successfully\n"
     ]
    }
   ],
   "source": [
    "with open('run_number_llama3-70b.txt', 'w+') as f:\n",
    "    for items in liste:\n",
    "        f.write('%s\\n' %items)\n",
    "    \n",
    "    print(\"File written successfully\")\n",
    "\n",
    "f.close() "
   ]
  }
 ],
 "metadata": {
  "kernelspec": {
   "display_name": "Python 3",
   "language": "python",
   "name": "python3"
  },
  "language_info": {
   "codemirror_mode": {
    "name": "ipython",
    "version": 3
   },
   "file_extension": ".py",
   "mimetype": "text/x-python",
   "name": "python",
   "nbconvert_exporter": "python",
   "pygments_lexer": "ipython3",
   "version": "3.9.6"
  }
 },
 "nbformat": 4,
 "nbformat_minor": 2
}
